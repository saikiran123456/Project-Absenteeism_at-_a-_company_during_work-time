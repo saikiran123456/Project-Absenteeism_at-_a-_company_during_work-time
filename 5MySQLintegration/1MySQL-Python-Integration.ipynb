{
 "cells": [
  {
   "cell_type": "markdown",
   "id": "2e3bbe13",
   "metadata": {},
   "source": [
    "# Integration Python with MySQL in 2 ways;\n",
    "\n",
    "**mysql package**\n",
    "\n",
    "**pymysql package**"
   ]
  },
  {
   "cell_type": "markdown",
   "id": "51f6851c",
   "metadata": {},
   "source": [
    "## MySQL Connection using 'mysql' and 'mysql-connector-python'"
   ]
  },
  {
   "cell_type": "code",
   "execution_count": 12,
   "id": "41f35d41",
   "metadata": {},
   "outputs": [
    {
     "name": "stdout",
     "output_type": "stream",
     "text": [
      "Requirement already satisfied: mysql in c:\\users\\abhisai\\anaconda3\\lib\\site-packages (0.0.3)\n",
      "Requirement already satisfied: mysqlclient in c:\\users\\abhisai\\anaconda3\\lib\\site-packages (from mysql) (2.1.1)\n"
     ]
    },
    {
     "name": "stderr",
     "output_type": "stream",
     "text": [
      "WARNING: Ignoring invalid distribution -rotobuf (c:\\users\\abhisai\\anaconda3\\lib\\site-packages)\n",
      "WARNING: Ignoring invalid distribution -rotobuf (c:\\users\\abhisai\\anaconda3\\lib\\site-packages)\n",
      "WARNING: Ignoring invalid distribution -rotobuf (c:\\users\\abhisai\\anaconda3\\lib\\site-packages)\n",
      "WARNING: Ignoring invalid distribution -rotobuf (c:\\users\\abhisai\\anaconda3\\lib\\site-packages)\n",
      "WARNING: Ignoring invalid distribution -rotobuf (c:\\users\\abhisai\\anaconda3\\lib\\site-packages)\n",
      "WARNING: Ignoring invalid distribution -rotobuf (c:\\users\\abhisai\\anaconda3\\lib\\site-packages)\n"
     ]
    }
   ],
   "source": [
    "!pip install mysql\n",
    "# Requirement already satisfied: mysqlclient in c:\\users\\abhisai\\anaconda3\\lib\\site-packages (from mysql) (2.1.1)"
   ]
  },
  {
   "cell_type": "code",
   "execution_count": 13,
   "id": "cabf4aa4",
   "metadata": {},
   "outputs": [
    {
     "name": "stdout",
     "output_type": "stream",
     "text": [
      "Collecting mysql-connector-python\n",
      "  Downloading mysql_connector_python-8.0.31-cp39-cp39-win_amd64.whl (7.9 MB)\n",
      "     ---------------------------------------- 7.9/7.9 MB 53.9 kB/s eta 0:00:00\n",
      "Collecting protobuf<=3.20.1,>=3.11.0\n",
      "  Downloading protobuf-3.20.1-cp39-cp39-win_amd64.whl (904 kB)\n",
      "     ------------------------------------- 904.1/904.1 kB 30.1 kB/s eta 0:00:00\n",
      "Installing collected packages: protobuf, mysql-connector-python\n",
      "  Attempting uninstall: protobuf\n",
      "    Found existing installation: protobuf 3.20.3\n",
      "    Uninstalling protobuf-3.20.3:\n",
      "      Successfully uninstalled protobuf-3.20.3\n",
      "Successfully installed mysql-connector-python-8.0.31 protobuf-3.20.1\n"
     ]
    },
    {
     "name": "stderr",
     "output_type": "stream",
     "text": [
      "WARNING: Ignoring invalid distribution -rotobuf (c:\\users\\abhisai\\anaconda3\\lib\\site-packages)\n",
      "WARNING: Ignoring invalid distribution -rotobuf (c:\\users\\abhisai\\anaconda3\\lib\\site-packages)\n",
      "WARNING: Ignoring invalid distribution -rotobuf (c:\\users\\abhisai\\anaconda3\\lib\\site-packages)\n",
      "    WARNING: Ignoring invalid distribution -rotobuf (c:\\users\\abhisai\\anaconda3\\lib\\site-packages)\n",
      "WARNING: Ignoring invalid distribution -rotobuf (c:\\users\\abhisai\\anaconda3\\lib\\site-packages)\n",
      "WARNING: Ignoring invalid distribution -rotobuf (c:\\users\\abhisai\\anaconda3\\lib\\site-packages)\n",
      "ERROR: pip's dependency resolver does not currently take into account all the packages that are installed. This behaviour is the source of the following dependency conflicts.\n",
      "google-api-core 2.10.2 requires protobuf!=3.20.0,!=3.20.1,!=4.21.0,!=4.21.1,!=4.21.2,!=4.21.3,!=4.21.4,!=4.21.5,<5.0.0dev,>=3.19.5, but you have protobuf 3.20.1 which is incompatible.\n",
      "WARNING: Ignoring invalid distribution -rotobuf (c:\\users\\abhisai\\anaconda3\\lib\\site-packages)\n",
      "WARNING: Ignoring invalid distribution -rotobuf (c:\\users\\abhisai\\anaconda3\\lib\\site-packages)\n",
      "WARNING: Ignoring invalid distribution -rotobuf (c:\\users\\abhisai\\anaconda3\\lib\\site-packages)\n"
     ]
    }
   ],
   "source": [
    "!pip install mysql-connector-python\n",
    "# Collecting mysql-connector-python, Downloading mysql_connector_python-8.0.31-cp39-cp39-win_amd64.whl (7.9 MB)\n",
    "# Successfully installed mysql-connector-python-8.0.31 protobuf-3.20.1"
   ]
  },
  {
   "cell_type": "code",
   "execution_count": 20,
   "id": "b6021fff",
   "metadata": {},
   "outputs": [],
   "source": [
    "#import mysqlconnectoronnector library\n",
    "import mysql\n",
    "import mysql.connector"
   ]
  },
  {
   "cell_type": "code",
   "execution_count": 33,
   "id": "916edcd3",
   "metadata": {},
   "outputs": [
    {
     "name": "stdout",
     "output_type": "stream",
     "text": [
      "<mysql.connector.connection_cext.CMySQLConnection object at 0x0000023D43C859D0>\n"
     ]
    }
   ],
   "source": [
    "#you need to call this fn to connect to mysql and store this in variable called mydb\n",
    "# import mysql.connector as sql_db \n",
    "\n",
    "mydb = mysql.connector.connect( \n",
    "    host = \"127.0.0.1\",\n",
    "    user=\"root\",    \n",
    "    passwd=\"Enter_Pwd\",\n",
    "    database =\"predicted_outputs\"\n",
    ")\n",
    "# mycursor = mydb.cursor()\n",
    "print(mydb)"
   ]
  },
  {
   "cell_type": "code",
   "execution_count": 34,
   "id": "429d586e",
   "metadata": {},
   "outputs": [],
   "source": [
    "mycursor = mydb.cursor()"
   ]
  },
  {
   "cell_type": "code",
   "execution_count": 36,
   "id": "a2191965",
   "metadata": {},
   "outputs": [],
   "source": [
    "# To see the Data in customers column\n",
    "mycursor.execute(\"SELECT * FROM ....\")  # first create one table and do the analysis "
   ]
  },
  {
   "cell_type": "code",
   "execution_count": null,
   "id": "a5f48f4e",
   "metadata": {},
   "outputs": [],
   "source": []
  },
  {
   "cell_type": "markdown",
   "id": "fb631cb0",
   "metadata": {},
   "source": [
    "## MySQL connection using 'pymysql'"
   ]
  },
  {
   "cell_type": "code",
   "execution_count": 37,
   "id": "a2d21cb1",
   "metadata": {},
   "outputs": [
    {
     "name": "stdout",
     "output_type": "stream",
     "text": [
      "Requirement already satisfied: pymysql in c:\\users\\abhisai\\anaconda3\\lib\\site-packages (1.0.2)\n"
     ]
    },
    {
     "name": "stderr",
     "output_type": "stream",
     "text": [
      "WARNING: Ignoring invalid distribution -rotobuf (c:\\users\\abhisai\\anaconda3\\lib\\site-packages)\n",
      "WARNING: Ignoring invalid distribution -rotobuf (c:\\users\\abhisai\\anaconda3\\lib\\site-packages)\n",
      "WARNING: Ignoring invalid distribution -rotobuf (c:\\users\\abhisai\\anaconda3\\lib\\site-packages)\n",
      "WARNING: Ignoring invalid distribution -rotobuf (c:\\users\\abhisai\\anaconda3\\lib\\site-packages)\n",
      "WARNING: Ignoring invalid distribution -rotobuf (c:\\users\\abhisai\\anaconda3\\lib\\site-packages)\n",
      "WARNING: Ignoring invalid distribution -rotobuf (c:\\users\\abhisai\\anaconda3\\lib\\site-packages)\n"
     ]
    }
   ],
   "source": [
    "!pip install pymysql\n",
    "# Requirement already satisfied: pymysql in c:\\users\\abhisai\\anaconda3\\lib\\site-packages (1.0.2)\n"
   ]
  },
  {
   "cell_type": "code",
   "execution_count": 1,
   "id": "bf6de9c2",
   "metadata": {},
   "outputs": [],
   "source": [
    "import pandas as pd\n",
    "import numpy as np\n",
    "\n",
    "import pymysql"
   ]
  },
  {
   "cell_type": "code",
   "execution_count": 2,
   "id": "c8f20bb0",
   "metadata": {},
   "outputs": [
    {
     "name": "stdout",
     "output_type": "stream",
     "text": [
      "<pymysql.connections.Connection object at 0x000001CE76929640>\n"
     ]
    }
   ],
   "source": [
    "conn = pymysql.connect(\n",
    "    user = 'root',\n",
    "    password = 'Sid@9619',\n",
    "    database = 'predicted_outputs'\n",
    "\n",
    ")\n",
    "print(conn)"
   ]
  },
  {
   "cell_type": "code",
   "execution_count": 3,
   "id": "f3d2107b",
   "metadata": {},
   "outputs": [],
   "source": [
    "# MyCursor (Why do we need cursor in MySQL) Cursor helps to establish connection with MySQL db\n",
    "# Its just like an object, It will help you go with all the databases, command providing for execution, Insertion\n",
    "# Basically its connector which is used to execute the satement, to communicate with MySQL database\n",
    "\n",
    "cursor = conn.cursor()"
   ]
  },
  {
   "cell_type": "markdown",
   "id": "7bb5500a",
   "metadata": {},
   "source": [
    "From now on, we can proceed by typing and executing SQL queries from Jupyter before that, we will create a table in our database."
   ]
  },
  {
   "cell_type": "code",
   "execution_count": null,
   "id": "703ddd91",
   "metadata": {},
   "outputs": [],
   "source": []
  },
  {
   "cell_type": "markdown",
   "id": "a5696576",
   "metadata": {},
   "source": [
    "# Load the df_new_obs which i have stored as feather file"
   ]
  },
  {
   "cell_type": "code",
   "execution_count": 4,
   "id": "2599cd99",
   "metadata": {},
   "outputs": [],
   "source": [
    "# my_df\n",
    "\n",
    "df_new_obs = pd.read_feather(\"df_new_obs.feather\")\n",
    "## NOTE : the Size if less of feather data file < than CSV file  (LOAD + SAVE time is VERY less)\n"
   ]
  },
  {
   "cell_type": "code",
   "execution_count": 5,
   "id": "326f51f6",
   "metadata": {},
   "outputs": [
    {
     "data": {
      "text/html": [
       "<div><div id=8c34e1c0-43d3-4870-b08d-87fe6cce2e16 style=\"display:none; background-color:#9D6CFF; color:white; width:200px; height:30px; padding-left:5px; border-radius:4px; flex-direction:row; justify-content:space-around; align-items:center;\" onmouseover=\"this.style.backgroundColor='#BA9BF8'\" onmouseout=\"this.style.backgroundColor='#9D6CFF'\" onclick=\"window.commands?.execute('create-mitosheet-from-dataframe-output');\">See Full Dataframe in Mito</div> <script> if (window.commands?.hasCommand('create-mitosheet-from-dataframe-output')) document.getElementById('8c34e1c0-43d3-4870-b08d-87fe6cce2e16').style.display = 'flex' </script> <table border=\"1\" class=\"dataframe\">\n",
       "  <thead>\n",
       "    <tr style=\"text-align: right;\">\n",
       "      <th></th>\n",
       "      <th>Reason_1</th>\n",
       "      <th>Reason_2</th>\n",
       "      <th>Reason_3</th>\n",
       "      <th>Reason_4</th>\n",
       "      <th>Month_Value</th>\n",
       "      <th>Transportation Expense</th>\n",
       "      <th>Age</th>\n",
       "      <th>Body Mass Index</th>\n",
       "      <th>Education</th>\n",
       "      <th>Children</th>\n",
       "      <th>Pets</th>\n",
       "      <th>Probability</th>\n",
       "      <th>Prediction</th>\n",
       "    </tr>\n",
       "  </thead>\n",
       "  <tbody>\n",
       "    <tr>\n",
       "      <th>0</th>\n",
       "      <td>0</td>\n",
       "      <td>0</td>\n",
       "      <td>0</td>\n",
       "      <td>1</td>\n",
       "      <td>6</td>\n",
       "      <td>179</td>\n",
       "      <td>30</td>\n",
       "      <td>19</td>\n",
       "      <td>1</td>\n",
       "      <td>0</td>\n",
       "      <td>0</td>\n",
       "      <td>0.237107</td>\n",
       "      <td>0</td>\n",
       "    </tr>\n",
       "    <tr>\n",
       "      <th>1</th>\n",
       "      <td>1</td>\n",
       "      <td>0</td>\n",
       "      <td>0</td>\n",
       "      <td>0</td>\n",
       "      <td>6</td>\n",
       "      <td>361</td>\n",
       "      <td>28</td>\n",
       "      <td>27</td>\n",
       "      <td>0</td>\n",
       "      <td>1</td>\n",
       "      <td>4</td>\n",
       "      <td>0.871285</td>\n",
       "      <td>1</td>\n",
       "    </tr>\n",
       "    <tr>\n",
       "      <th>2</th>\n",
       "      <td>0</td>\n",
       "      <td>0</td>\n",
       "      <td>0</td>\n",
       "      <td>1</td>\n",
       "      <td>6</td>\n",
       "      <td>155</td>\n",
       "      <td>34</td>\n",
       "      <td>25</td>\n",
       "      <td>0</td>\n",
       "      <td>2</td>\n",
       "      <td>0</td>\n",
       "      <td>0.448511</td>\n",
       "      <td>0</td>\n",
       "    </tr>\n",
       "    <tr>\n",
       "      <th>3</th>\n",
       "      <td>0</td>\n",
       "      <td>0</td>\n",
       "      <td>0</td>\n",
       "      <td>1</td>\n",
       "      <td>6</td>\n",
       "      <td>179</td>\n",
       "      <td>40</td>\n",
       "      <td>22</td>\n",
       "      <td>1</td>\n",
       "      <td>2</td>\n",
       "      <td>0</td>\n",
       "      <td>0.360140</td>\n",
       "      <td>0</td>\n",
       "    </tr>\n",
       "    <tr>\n",
       "      <th>4</th>\n",
       "      <td>1</td>\n",
       "      <td>0</td>\n",
       "      <td>0</td>\n",
       "      <td>0</td>\n",
       "      <td>6</td>\n",
       "      <td>155</td>\n",
       "      <td>34</td>\n",
       "      <td>25</td>\n",
       "      <td>0</td>\n",
       "      <td>2</td>\n",
       "      <td>0</td>\n",
       "      <td>0.721178</td>\n",
       "      <td>1</td>\n",
       "    </tr>\n",
       "    <tr>\n",
       "      <th>...</th>\n",
       "      <td>...</td>\n",
       "      <td>...</td>\n",
       "      <td>...</td>\n",
       "      <td>...</td>\n",
       "      <td>...</td>\n",
       "      <td>...</td>\n",
       "      <td>...</td>\n",
       "      <td>...</td>\n",
       "      <td>...</td>\n",
       "      <td>...</td>\n",
       "      <td>...</td>\n",
       "      <td>...</td>\n",
       "      <td>...</td>\n",
       "    </tr>\n",
       "    <tr>\n",
       "      <th>35</th>\n",
       "      <td>1</td>\n",
       "      <td>0</td>\n",
       "      <td>0</td>\n",
       "      <td>0</td>\n",
       "      <td>7</td>\n",
       "      <td>289</td>\n",
       "      <td>33</td>\n",
       "      <td>30</td>\n",
       "      <td>0</td>\n",
       "      <td>2</td>\n",
       "      <td>1</td>\n",
       "      <td>0.913706</td>\n",
       "      <td>1</td>\n",
       "    </tr>\n",
       "    <tr>\n",
       "      <th>36</th>\n",
       "      <td>1</td>\n",
       "      <td>0</td>\n",
       "      <td>0</td>\n",
       "      <td>0</td>\n",
       "      <td>7</td>\n",
       "      <td>235</td>\n",
       "      <td>37</td>\n",
       "      <td>29</td>\n",
       "      <td>1</td>\n",
       "      <td>1</td>\n",
       "      <td>1</td>\n",
       "      <td>0.749982</td>\n",
       "      <td>1</td>\n",
       "    </tr>\n",
       "    <tr>\n",
       "      <th>37</th>\n",
       "      <td>0</td>\n",
       "      <td>0</td>\n",
       "      <td>0</td>\n",
       "      <td>0</td>\n",
       "      <td>7</td>\n",
       "      <td>118</td>\n",
       "      <td>40</td>\n",
       "      <td>34</td>\n",
       "      <td>0</td>\n",
       "      <td>1</td>\n",
       "      <td>8</td>\n",
       "      <td>0.016180</td>\n",
       "      <td>0</td>\n",
       "    </tr>\n",
       "    <tr>\n",
       "      <th>38</th>\n",
       "      <td>0</td>\n",
       "      <td>0</td>\n",
       "      <td>0</td>\n",
       "      <td>0</td>\n",
       "      <td>7</td>\n",
       "      <td>231</td>\n",
       "      <td>39</td>\n",
       "      <td>35</td>\n",
       "      <td>0</td>\n",
       "      <td>2</td>\n",
       "      <td>2</td>\n",
       "      <td>0.247648</td>\n",
       "      <td>0</td>\n",
       "    </tr>\n",
       "    <tr>\n",
       "      <th>39</th>\n",
       "      <td>0</td>\n",
       "      <td>0</td>\n",
       "      <td>0</td>\n",
       "      <td>0</td>\n",
       "      <td>7</td>\n",
       "      <td>179</td>\n",
       "      <td>53</td>\n",
       "      <td>25</td>\n",
       "      <td>0</td>\n",
       "      <td>1</td>\n",
       "      <td>1</td>\n",
       "      <td>0.060545</td>\n",
       "      <td>0</td>\n",
       "    </tr>\n",
       "  </tbody>\n",
       "</table></div>"
      ],
      "text/plain": [
       "    Reason_1  Reason_2  Reason_3  Reason_4  Month_Value  \\\n",
       "0          0         0         0         1            6   \n",
       "1          1         0         0         0            6   \n",
       "2          0         0         0         1            6   \n",
       "3          0         0         0         1            6   \n",
       "4          1         0         0         0            6   \n",
       "5          1         0         0         0            6   \n",
       "6          1         0         0         0            6   \n",
       "7          0         0         0         1            6   \n",
       "8          0         0         0         1            6   \n",
       "9          1         0         0         0            6   \n",
       "10         0         0         0         1            6   \n",
       "11         0         0         1         0            6   \n",
       "12         0         0         1         0            6   \n",
       "13         0         0         0         1            6   \n",
       "14         0         0         0         0            6   \n",
       "15         0         0         0         0            6   \n",
       "16         0         0         1         0            6   \n",
       "17         1         0         0         0            6   \n",
       "18         0         0         0         1            6   \n",
       "19         1         0         0         0            7   \n",
       "20         0         0         0         1            7   \n",
       "21         0         0         0         1            7   \n",
       "22         1         0         0         0            7   \n",
       "23         1         0         0         0            7   \n",
       "24         0         0         0         1            7   \n",
       "25         0         0         0         1            7   \n",
       "26         0         0         1         0            7   \n",
       "27         1         0         0         0            7   \n",
       "28         0         0         0         1            7   \n",
       "29         1         0         0         0            7   \n",
       "30         0         0         0         1            7   \n",
       "31         0         0         0         1            7   \n",
       "32         0         0         0         1            7   \n",
       "33         0         0         0         1            7   \n",
       "34         1         0         0         0            7   \n",
       "35         1         0         0         0            7   \n",
       "36         1         0         0         0            7   \n",
       "37         0         0         0         0            7   \n",
       "38         0         0         0         0            7   \n",
       "39         0         0         0         0            7   \n",
       "\n",
       "    Transportation Expense  Age  Body Mass Index  Education  Children  Pets  \\\n",
       "0                      179   30               19          1         0     0   \n",
       "1                      361   28               27          0         1     4   \n",
       "2                      155   34               25          0         2     0   \n",
       "3                      179   40               22          1         2     0   \n",
       "4                      155   34               25          0         2     0   \n",
       "5                      225   28               24          0         1     2   \n",
       "6                      118   46               25          0         2     0   \n",
       "7                      179   30               19          1         0     0   \n",
       "8                      118   37               28          0         0     0   \n",
       "9                      118   37               28          0         0     0   \n",
       "10                     378   36               21          0         2     4   \n",
       "11                     118   50               31          0         1     0   \n",
       "12                     233   31               21          1         1     8   \n",
       "13                     179   30               19          1         0     0   \n",
       "14                     235   48               33          0         1     5   \n",
       "15                     268   33               25          1         0     0   \n",
       "16                     118   50               31          0         1     0   \n",
       "17                     179   30               19          1         0     0   \n",
       "18                     291   40               25          0         1     1   \n",
       "19                     179   30               19          1         0     0   \n",
       "20                     118   37               28          0         0     0   \n",
       "21                     233   31               21          1         1     8   \n",
       "22                     118   37               28          0         0     0   \n",
       "23                     118   37               28          0         0     0   \n",
       "24                     233   31               21          1         1     8   \n",
       "25                     235   43               38          0         1     0   \n",
       "26                     233   31               21          1         1     8   \n",
       "27                     228   58               22          0         2     1   \n",
       "28                     118   37               28          0         0     0   \n",
       "29                     228   58               22          0         2     1   \n",
       "30                     189   33               25          0         2     2   \n",
       "31                     118   37               28          0         0     0   \n",
       "32                     361   28               27          0         1     4   \n",
       "33                     225   28               24          0         1     2   \n",
       "34                     369   31               25          0         3     0   \n",
       "35                     289   33               30          0         2     1   \n",
       "36                     235   37               29          1         1     1   \n",
       "37                     118   40               34          0         1     8   \n",
       "38                     231   39               35          0         2     2   \n",
       "39                     179   53               25          0         1     1   \n",
       "\n",
       "    Probability  Prediction  \n",
       "0      0.237107           0  \n",
       "1      0.871285           1  \n",
       "2      0.448511           0  \n",
       "3      0.360140           0  \n",
       "4      0.721178           1  \n",
       "5      0.709703           1  \n",
       "6      0.567888           1  \n",
       "7      0.237107           0  \n",
       "8      0.249703           0  \n",
       "9      0.514198           1  \n",
       "10     0.652696           1  \n",
       "11     0.285803           0  \n",
       "12     0.100742           0  \n",
       "13     0.237107           0  \n",
       "14     0.074432           0  \n",
       "15     0.158316           0  \n",
       "16     0.285803           0  \n",
       "17     0.497099           0  \n",
       "18     0.590822           1  \n",
       "19     0.497494           0  \n",
       "20     0.249999           0  \n",
       "21     0.100885           0  \n",
       "22     0.514593           1  \n",
       "23     0.514593           1  \n",
       "24     0.100885           0  \n",
       "25     0.705144           1  \n",
       "26     0.100885           0  \n",
       "27     0.637698           1  \n",
       "28     0.249999           0  \n",
       "29     0.637698           1  \n",
       "30     0.414535           0  \n",
       "31     0.249999           0  \n",
       "32     0.680691           1  \n",
       "33     0.435000           0  \n",
       "34     0.968453           1  \n",
       "35     0.913706           1  \n",
       "36     0.749982           1  \n",
       "37     0.016180           0  \n",
       "38     0.247648           0  \n",
       "39     0.060545           0  "
      ]
     },
     "execution_count": 5,
     "metadata": {},
     "output_type": "execute_result"
    }
   ],
   "source": [
    "df_new_obs"
   ]
  },
  {
   "cell_type": "markdown",
   "id": "dc4ceda6",
   "metadata": {},
   "source": [
    "# Transferring Data from Jupyter to Workbench – Part I & II \n",
    "**! Running an SQL SELECT Statement from Python**"
   ]
  },
  {
   "cell_type": "markdown",
   "id": "08ca41c1",
   "metadata": {},
   "source": [
    "creating a query we will store as a string variable in Python and then use as an argument of the execute method.\n",
    "\n",
    "the execute method that will move our data to the predicted outputs table in workbench."
   ]
  },
  {
   "cell_type": "markdown",
   "id": "f7b9bd7b",
   "metadata": {},
   "source": [
    "If we had to type the entire statement manually, it would take too much time and we may unintentionally input many wrong values.\n",
    "\n",
    "Using iteration in Python in the following way\n",
    "\n",
    "Creating a structure that will insert the rose information from df_new_obs into a row in our database in MySQL.\n"
   ]
  },
  {
   "cell_type": "code",
   "execution_count": 6,
   "id": "891deda8",
   "metadata": {},
   "outputs": [
    {
     "data": {
      "text/plain": [
       "0"
      ]
     },
     "execution_count": 6,
     "metadata": {},
     "output_type": "execute_result"
    }
   ],
   "source": [
    "cursor.execute('SELECT * FROM predicted_outputs;')"
   ]
  },
  {
   "cell_type": "markdown",
   "id": "5fcaf184",
   "metadata": {},
   "source": [
    "## Creating the INSERT Statememt"
   ]
  },
  {
   "cell_type": "code",
   "execution_count": 7,
   "id": "52ff02ac",
   "metadata": {},
   "outputs": [
    {
     "data": {
      "text/plain": [
       "'INSERT INTO predicted_outputs VALUES'"
      ]
     },
     "execution_count": 7,
     "metadata": {},
     "output_type": "execute_result"
    }
   ],
   "source": [
    "insert_query = 'INSERT INTO predicted_outputs VALUES'\n",
    "insert_query"
   ]
  },
  {
   "cell_type": "markdown",
   "id": "9a78a394",
   "metadata": {},
   "source": [
    "**Experimentation in order to develop loop logic:**"
   ]
  },
  {
   "cell_type": "code",
   "execution_count": 8,
   "id": "a3c3a9d2",
   "metadata": {},
   "outputs": [
    {
     "data": {
      "text/plain": [
       "(40, 13)"
      ]
     },
     "execution_count": 8,
     "metadata": {},
     "output_type": "execute_result"
    }
   ],
   "source": [
    "df_new_obs.shape"
   ]
  },
  {
   "cell_type": "code",
   "execution_count": 9,
   "id": "ed77379a",
   "metadata": {},
   "outputs": [
    {
     "data": {
      "text/plain": [
       "array(['Reason_1', 'Reason_2', 'Reason_3', 'Reason_4', 'Month_Value',\n",
       "       'Transportation Expense', 'Age', 'Body Mass Index', 'Education',\n",
       "       'Children', 'Pets', 'Probability', 'Prediction'], dtype=object)"
      ]
     },
     "execution_count": 9,
     "metadata": {},
     "output_type": "execute_result"
    }
   ],
   "source": [
    "df_new_obs.columns.values"
   ]
  },
  {
   "cell_type": "code",
   "execution_count": 10,
   "id": "a58e4004",
   "metadata": {},
   "outputs": [
    {
     "data": {
      "text/plain": [
       "'Age'"
      ]
     },
     "execution_count": 10,
     "metadata": {},
     "output_type": "execute_result"
    }
   ],
   "source": [
    "# extract column 'Age' from above\n",
    "df_new_obs.columns[6]"
   ]
  },
  {
   "cell_type": "code",
   "execution_count": 11,
   "id": "bdd6efa8",
   "metadata": {},
   "outputs": [
    {
     "data": {
      "text/plain": [
       "0     30\n",
       "1     28\n",
       "2     34\n",
       "3     40\n",
       "4     34\n",
       "5     28\n",
       "6     46\n",
       "7     30\n",
       "8     37\n",
       "9     37\n",
       "10    36\n",
       "11    50\n",
       "12    31\n",
       "13    30\n",
       "14    48\n",
       "15    33\n",
       "16    50\n",
       "17    30\n",
       "18    40\n",
       "19    30\n",
       "20    37\n",
       "21    31\n",
       "22    37\n",
       "23    37\n",
       "24    31\n",
       "25    43\n",
       "26    31\n",
       "27    58\n",
       "28    37\n",
       "29    58\n",
       "30    33\n",
       "31    37\n",
       "32    28\n",
       "33    28\n",
       "34    31\n",
       "35    33\n",
       "36    37\n",
       "37    40\n",
       "38    39\n",
       "39    53\n",
       "Name: Age, dtype: int64"
      ]
     },
     "execution_count": 11,
     "metadata": {},
     "output_type": "execute_result"
    }
   ],
   "source": [
    "# Now Extract Age column values aswell!\n",
    "df_new_obs['Age']"
   ]
  },
  {
   "cell_type": "code",
   "execution_count": 12,
   "id": "59ab696d",
   "metadata": {},
   "outputs": [
    {
     "data": {
      "text/plain": [
       "30"
      ]
     },
     "execution_count": 12,
     "metadata": {},
     "output_type": "execute_result"
    }
   ],
   "source": [
    "# Now Extract Age columns 0th index value\n",
    "df_new_obs[df_new_obs.columns.values[6]][0]"
   ]
  },
  {
   "cell_type": "code",
   "execution_count": 13,
   "id": "c2bdc6de",
   "metadata": {},
   "outputs": [
    {
     "name": "stdout",
     "output_type": "stream",
     "text": [
      "for rows:  40\n",
      "for columns:  13\n"
     ]
    }
   ],
   "source": [
    "print('for rows: ', df_new_obs.shape[0])  # rows\n",
    "print('for columns: ', df_new_obs.shape[1])  # columns"
   ]
  },
  {
   "cell_type": "markdown",
   "id": "e9d75a2e",
   "metadata": {},
   "source": [
    "# Looping the entire logic now"
   ]
  },
  {
   "cell_type": "markdown",
   "id": "32b74a24",
   "metadata": {},
   "source": [
    "## Insert_query appending data with for loop using df_new_obs data file..."
   ]
  },
  {
   "cell_type": "markdown",
   "id": "df670160",
   "metadata": {},
   "source": [
    "**Instead of trying to interpret it element by element, it would be more helpful if I provided a more holistic explanation.**"
   ]
  },
  {
   "cell_type": "markdown",
   "id": "38719d99",
   "metadata": {},
   "source": [
    "1. My iteration should go through every row of D.F. new observations.\n",
    "\n",
    "- substituting the indexes with the letters that was used for iteration over columns and rows, they are J and I respectively.\n",
    "\n",
    "2. the insert query syntax requires each row I to end with parentheses and not comma\n",
    "\n",
    "- insert_query = insert_query[ : -2] + '), ' \n",
    "- it replaces these two characters with a close parentheses and a comma.\n",
    "\n",
    "3. Finally: insert_query = insert_query[:-2] + ';' \n",
    "- Will remove the last two characters from our insert query and then add a semicolon at the end and as we check the content of the same variable\n",
    "\n"
   ]
  },
  {
   "cell_type": "code",
   "execution_count": 14,
   "id": "2bf5eb0e",
   "metadata": {},
   "outputs": [],
   "source": [
    "for i in range(df_new_obs.shape[0]):\n",
    "    insert_query += '('\n",
    "    \n",
    "    for j in range(df_new_obs.shape[1]):\n",
    "        insert_query += str(df_new_obs[df_new_obs.columns.values[j]][i]) + ', '\n",
    "        \n",
    "    insert_query = insert_query[ : -2] + '), '"
   ]
  },
  {
   "cell_type": "code",
   "execution_count": 15,
   "id": "2878338e",
   "metadata": {},
   "outputs": [
    {
     "data": {
      "text/plain": [
       "'INSERT INTO predicted_outputs VALUES(0, 0, 0, 1, 6, 179, 30, 19, 1, 0, 0, 0.23710667598022886, 0), (1, 0, 0, 0, 6, 361, 28, 27, 0, 1, 4, 0.8712854884011764, 1), (0, 0, 0, 1, 6, 155, 34, 25, 0, 2, 0, 0.44851077864737643, 0), (0, 0, 0, 1, 6, 179, 40, 22, 1, 2, 0, 0.36013965441991963, 0), (1, 0, 0, 0, 6, 155, 34, 25, 0, 2, 0, 0.7211783299012042, 1), (1, 0, 0, 0, 6, 225, 28, 24, 0, 1, 2, 0.7097026614448045, 1), (1, 0, 0, 0, 6, 118, 46, 25, 0, 2, 0, 0.5678880252396125, 1), (0, 0, 0, 1, 6, 179, 30, 19, 1, 0, 0, 0.23710667598022886, 0), (0, 0, 0, 1, 6, 118, 37, 28, 0, 0, 0, 0.24970277775605934, 0), (1, 0, 0, 0, 6, 118, 37, 28, 0, 0, 0, 0.5141975621642136, 1), (0, 0, 0, 1, 6, 378, 36, 21, 0, 2, 4, 0.6526964495967181, 1), (0, 0, 1, 0, 6, 118, 50, 31, 0, 1, 0, 0.2858032255635709, 0), (0, 0, 1, 0, 6, 233, 31, 21, 1, 1, 8, 0.10074167088278621, 0), (0, 0, 0, 1, 6, 179, 30, 19, 1, 0, 0, 0.23710667598022886, 0), (0, 0, 0, 0, 6, 235, 48, 33, 0, 1, 5, 0.07443207524915826, 0), (0, 0, 0, 0, 6, 268, 33, 25, 1, 0, 0, 0.15831603166019192, 0), (0, 0, 1, 0, 6, 118, 50, 31, 0, 1, 0, 0.2858032255635709, 0), (1, 0, 0, 0, 6, 179, 30, 19, 1, 0, 0, 0.4970989228123216, 0), (0, 0, 0, 1, 6, 291, 40, 25, 0, 1, 1, 0.5908221724809296, 1), (1, 0, 0, 0, 7, 179, 30, 19, 1, 0, 0, 0.4974944524068378, 0), (0, 0, 0, 1, 7, 118, 37, 28, 0, 0, 0, 0.24999931574267287, 0), (0, 0, 0, 1, 7, 233, 31, 21, 1, 1, 8, 0.10088509416223551, 0), (1, 0, 0, 0, 7, 118, 37, 28, 0, 0, 0, 0.5145927754634233, 1), (1, 0, 0, 0, 7, 118, 37, 28, 0, 0, 0, 0.5145927754634233, 1), (0, 0, 0, 1, 7, 233, 31, 21, 1, 1, 8, 0.10088509416223551, 0), (0, 0, 0, 1, 7, 235, 43, 38, 0, 1, 0, 0.7051443953059972, 1), (0, 0, 1, 0, 7, 233, 31, 21, 1, 1, 8, 0.10088509416223551, 0), (1, 0, 0, 0, 7, 228, 58, 22, 0, 2, 1, 0.6376982274564128, 1), (0, 0, 0, 1, 7, 118, 37, 28, 0, 0, 0, 0.24999931574267287, 0), (1, 0, 0, 0, 7, 228, 58, 22, 0, 2, 1, 0.6376982274564128, 1), (0, 0, 0, 1, 7, 189, 33, 25, 0, 2, 2, 0.4145345562870802, 0), (0, 0, 0, 1, 7, 118, 37, 28, 0, 0, 0, 0.24999931574267287, 0), (0, 0, 0, 1, 7, 361, 28, 27, 0, 1, 4, 0.6806914783258143, 1), (0, 0, 0, 1, 7, 225, 28, 24, 0, 1, 2, 0.43499966464223216, 0), (1, 0, 0, 0, 7, 369, 31, 25, 0, 3, 0, 0.9684533869456, 1), (1, 0, 0, 0, 7, 289, 33, 30, 0, 2, 1, 0.9137060341349956, 1), (1, 0, 0, 0, 7, 235, 37, 29, 1, 1, 1, 0.749981513321215, 1), (0, 0, 0, 0, 7, 118, 40, 34, 0, 1, 8, 0.016180108224711012, 0), (0, 0, 0, 0, 7, 231, 39, 35, 0, 2, 2, 0.24764753588140084, 0), (0, 0, 0, 0, 7, 179, 53, 25, 0, 1, 1, 0.060545386002746546, 0), '"
      ]
     },
     "execution_count": 15,
     "metadata": {},
     "output_type": "execute_result"
    }
   ],
   "source": [
    "insert_query"
   ]
  },
  {
   "cell_type": "markdown",
   "id": "1a0b51a7",
   "metadata": {},
   "source": [
    "3. Finally: insert_query = insert_query[:-2] + ';'\n",
    "\n",
    "Removing the last 2 characters from insert query and then adding a semicolon at the end and as to check the content of the same variable"
   ]
  },
  {
   "cell_type": "code",
   "execution_count": 16,
   "id": "5d47a102",
   "metadata": {},
   "outputs": [],
   "source": [
    "insert_query = insert_query[:-2] + ';'"
   ]
  },
  {
   "cell_type": "code",
   "execution_count": 17,
   "id": "e4aa5752",
   "metadata": {},
   "outputs": [
    {
     "data": {
      "text/plain": [
       "'INSERT INTO predicted_outputs VALUES(0, 0, 0, 1, 6, 179, 30, 19, 1, 0, 0, 0.23710667598022886, 0), (1, 0, 0, 0, 6, 361, 28, 27, 0, 1, 4, 0.8712854884011764, 1), (0, 0, 0, 1, 6, 155, 34, 25, 0, 2, 0, 0.44851077864737643, 0), (0, 0, 0, 1, 6, 179, 40, 22, 1, 2, 0, 0.36013965441991963, 0), (1, 0, 0, 0, 6, 155, 34, 25, 0, 2, 0, 0.7211783299012042, 1), (1, 0, 0, 0, 6, 225, 28, 24, 0, 1, 2, 0.7097026614448045, 1), (1, 0, 0, 0, 6, 118, 46, 25, 0, 2, 0, 0.5678880252396125, 1), (0, 0, 0, 1, 6, 179, 30, 19, 1, 0, 0, 0.23710667598022886, 0), (0, 0, 0, 1, 6, 118, 37, 28, 0, 0, 0, 0.24970277775605934, 0), (1, 0, 0, 0, 6, 118, 37, 28, 0, 0, 0, 0.5141975621642136, 1), (0, 0, 0, 1, 6, 378, 36, 21, 0, 2, 4, 0.6526964495967181, 1), (0, 0, 1, 0, 6, 118, 50, 31, 0, 1, 0, 0.2858032255635709, 0), (0, 0, 1, 0, 6, 233, 31, 21, 1, 1, 8, 0.10074167088278621, 0), (0, 0, 0, 1, 6, 179, 30, 19, 1, 0, 0, 0.23710667598022886, 0), (0, 0, 0, 0, 6, 235, 48, 33, 0, 1, 5, 0.07443207524915826, 0), (0, 0, 0, 0, 6, 268, 33, 25, 1, 0, 0, 0.15831603166019192, 0), (0, 0, 1, 0, 6, 118, 50, 31, 0, 1, 0, 0.2858032255635709, 0), (1, 0, 0, 0, 6, 179, 30, 19, 1, 0, 0, 0.4970989228123216, 0), (0, 0, 0, 1, 6, 291, 40, 25, 0, 1, 1, 0.5908221724809296, 1), (1, 0, 0, 0, 7, 179, 30, 19, 1, 0, 0, 0.4974944524068378, 0), (0, 0, 0, 1, 7, 118, 37, 28, 0, 0, 0, 0.24999931574267287, 0), (0, 0, 0, 1, 7, 233, 31, 21, 1, 1, 8, 0.10088509416223551, 0), (1, 0, 0, 0, 7, 118, 37, 28, 0, 0, 0, 0.5145927754634233, 1), (1, 0, 0, 0, 7, 118, 37, 28, 0, 0, 0, 0.5145927754634233, 1), (0, 0, 0, 1, 7, 233, 31, 21, 1, 1, 8, 0.10088509416223551, 0), (0, 0, 0, 1, 7, 235, 43, 38, 0, 1, 0, 0.7051443953059972, 1), (0, 0, 1, 0, 7, 233, 31, 21, 1, 1, 8, 0.10088509416223551, 0), (1, 0, 0, 0, 7, 228, 58, 22, 0, 2, 1, 0.6376982274564128, 1), (0, 0, 0, 1, 7, 118, 37, 28, 0, 0, 0, 0.24999931574267287, 0), (1, 0, 0, 0, 7, 228, 58, 22, 0, 2, 1, 0.6376982274564128, 1), (0, 0, 0, 1, 7, 189, 33, 25, 0, 2, 2, 0.4145345562870802, 0), (0, 0, 0, 1, 7, 118, 37, 28, 0, 0, 0, 0.24999931574267287, 0), (0, 0, 0, 1, 7, 361, 28, 27, 0, 1, 4, 0.6806914783258143, 1), (0, 0, 0, 1, 7, 225, 28, 24, 0, 1, 2, 0.43499966464223216, 0), (1, 0, 0, 0, 7, 369, 31, 25, 0, 3, 0, 0.9684533869456, 1), (1, 0, 0, 0, 7, 289, 33, 30, 0, 2, 1, 0.9137060341349956, 1), (1, 0, 0, 0, 7, 235, 37, 29, 1, 1, 1, 0.749981513321215, 1), (0, 0, 0, 0, 7, 118, 40, 34, 0, 1, 8, 0.016180108224711012, 0), (0, 0, 0, 0, 7, 231, 39, 35, 0, 2, 2, 0.24764753588140084, 0), (0, 0, 0, 0, 7, 179, 53, 25, 0, 1, 1, 0.060545386002746546, 0);'"
      ]
     },
     "execution_count": 17,
     "metadata": {},
     "output_type": "execute_result"
    }
   ],
   "source": [
    "insert_query"
   ]
  },
  {
   "cell_type": "markdown",
   "id": "fecf331f",
   "metadata": {},
   "source": [
    "### have prepared a string to deliver to MySQL.!"
   ]
  },
  {
   "cell_type": "code",
   "execution_count": null,
   "id": "43eece16",
   "metadata": {},
   "outputs": [],
   "source": []
  },
  {
   "cell_type": "code",
   "execution_count": null,
   "id": "1ada55ad",
   "metadata": {},
   "outputs": [],
   "source": []
  },
  {
   "cell_type": "markdown",
   "id": "05d618da",
   "metadata": {},
   "source": [
    "# Transferring Data from Jupyter to Workbench - Part III"
   ]
  },
  {
   "cell_type": "code",
   "execution_count": 18,
   "id": "64b91d8c",
   "metadata": {},
   "outputs": [
    {
     "data": {
      "text/plain": [
       "40"
      ]
     },
     "execution_count": 18,
     "metadata": {},
     "output_type": "execute_result"
    }
   ],
   "source": [
    "# execute method to our cursor with the insert query as an argument.\n",
    "cursor.execute(insert_query)\n",
    "# output cell in Python indicates that we've added 40 new records"
   ]
  },
  {
   "cell_type": "code",
   "execution_count": null,
   "id": "7582a8cf",
   "metadata": {},
   "outputs": [],
   "source": []
  },
  {
   "cell_type": "markdown",
   "id": "ee7be55d",
   "metadata": {},
   "source": [
    "## COMMIT (To finalize whatever done!)"
   ]
  },
  {
   "cell_type": "code",
   "execution_count": 19,
   "id": "12b50840",
   "metadata": {},
   "outputs": [],
   "source": [
    "# To fill in the predicted output's table with information.\n",
    "conn.commit()"
   ]
  },
  {
   "cell_type": "markdown",
   "id": "9a702ced",
   "metadata": {},
   "source": [
    "## CLOSE (To conclude,once finished working with connection)"
   ]
  },
  {
   "cell_type": "code",
   "execution_count": 20,
   "id": "24506a5f",
   "metadata": {},
   "outputs": [],
   "source": [
    "conn.close()"
   ]
  },
  {
   "cell_type": "code",
   "execution_count": null,
   "id": "eee9b66c",
   "metadata": {},
   "outputs": [],
   "source": []
  },
  {
   "cell_type": "markdown",
   "id": "fc95caad",
   "metadata": {},
   "source": []
  },
  {
   "cell_type": "markdown",
   "id": "6c9237e5",
   "metadata": {},
   "source": [
    "# Saving the df_new_obs into \"Absenteeism_predictions.CSV\" file for futher analysis in 'Tableau' for Data visualizations"
   ]
  },
  {
   "cell_type": "markdown",
   "id": "9175fcf3",
   "metadata": {},
   "source": [
    "## think of a way to load this data in Tableau."
   ]
  },
  {
   "cell_type": "markdown",
   "id": "035b1bbe",
   "metadata": {},
   "source": [
    "substituting this automatic process with a manual one,storing this dataset as a CSV file,"
   ]
  },
  {
   "cell_type": "code",
   "execution_count": 21,
   "id": "e9521cda",
   "metadata": {},
   "outputs": [],
   "source": [
    "df_new_obs.to_csv('Absenteeism_predictions.csv', index=False)"
   ]
  },
  {
   "cell_type": "code",
   "execution_count": 22,
   "id": "39168eb4",
   "metadata": {},
   "outputs": [
    {
     "data": {
      "text/html": [
       "<div><div id=9640c523-64db-4226-9b77-43890d427abe style=\"display:none; background-color:#9D6CFF; color:white; width:200px; height:30px; padding-left:5px; border-radius:4px; flex-direction:row; justify-content:space-around; align-items:center;\" onmouseover=\"this.style.backgroundColor='#BA9BF8'\" onmouseout=\"this.style.backgroundColor='#9D6CFF'\" onclick=\"window.commands?.execute('create-mitosheet-from-dataframe-output');\">See Full Dataframe in Mito</div> <script> if (window.commands?.hasCommand('create-mitosheet-from-dataframe-output')) document.getElementById('9640c523-64db-4226-9b77-43890d427abe').style.display = 'flex' </script> <table border=\"1\" class=\"dataframe\">\n",
       "  <thead>\n",
       "    <tr style=\"text-align: right;\">\n",
       "      <th></th>\n",
       "      <th>Reason_1</th>\n",
       "      <th>Reason_2</th>\n",
       "      <th>Reason_3</th>\n",
       "      <th>Reason_4</th>\n",
       "      <th>Month_Value</th>\n",
       "      <th>Transportation Expense</th>\n",
       "      <th>Age</th>\n",
       "      <th>Body Mass Index</th>\n",
       "      <th>Education</th>\n",
       "      <th>Children</th>\n",
       "      <th>Pets</th>\n",
       "      <th>Probability</th>\n",
       "      <th>Prediction</th>\n",
       "    </tr>\n",
       "  </thead>\n",
       "  <tbody>\n",
       "    <tr>\n",
       "      <th>0</th>\n",
       "      <td>0</td>\n",
       "      <td>0</td>\n",
       "      <td>0</td>\n",
       "      <td>1</td>\n",
       "      <td>6</td>\n",
       "      <td>179</td>\n",
       "      <td>30</td>\n",
       "      <td>19</td>\n",
       "      <td>1</td>\n",
       "      <td>0</td>\n",
       "      <td>0</td>\n",
       "      <td>0.237107</td>\n",
       "      <td>0</td>\n",
       "    </tr>\n",
       "    <tr>\n",
       "      <th>1</th>\n",
       "      <td>1</td>\n",
       "      <td>0</td>\n",
       "      <td>0</td>\n",
       "      <td>0</td>\n",
       "      <td>6</td>\n",
       "      <td>361</td>\n",
       "      <td>28</td>\n",
       "      <td>27</td>\n",
       "      <td>0</td>\n",
       "      <td>1</td>\n",
       "      <td>4</td>\n",
       "      <td>0.871285</td>\n",
       "      <td>1</td>\n",
       "    </tr>\n",
       "    <tr>\n",
       "      <th>2</th>\n",
       "      <td>0</td>\n",
       "      <td>0</td>\n",
       "      <td>0</td>\n",
       "      <td>1</td>\n",
       "      <td>6</td>\n",
       "      <td>155</td>\n",
       "      <td>34</td>\n",
       "      <td>25</td>\n",
       "      <td>0</td>\n",
       "      <td>2</td>\n",
       "      <td>0</td>\n",
       "      <td>0.448511</td>\n",
       "      <td>0</td>\n",
       "    </tr>\n",
       "    <tr>\n",
       "      <th>3</th>\n",
       "      <td>0</td>\n",
       "      <td>0</td>\n",
       "      <td>0</td>\n",
       "      <td>1</td>\n",
       "      <td>6</td>\n",
       "      <td>179</td>\n",
       "      <td>40</td>\n",
       "      <td>22</td>\n",
       "      <td>1</td>\n",
       "      <td>2</td>\n",
       "      <td>0</td>\n",
       "      <td>0.360140</td>\n",
       "      <td>0</td>\n",
       "    </tr>\n",
       "    <tr>\n",
       "      <th>4</th>\n",
       "      <td>1</td>\n",
       "      <td>0</td>\n",
       "      <td>0</td>\n",
       "      <td>0</td>\n",
       "      <td>6</td>\n",
       "      <td>155</td>\n",
       "      <td>34</td>\n",
       "      <td>25</td>\n",
       "      <td>0</td>\n",
       "      <td>2</td>\n",
       "      <td>0</td>\n",
       "      <td>0.721178</td>\n",
       "      <td>1</td>\n",
       "    </tr>\n",
       "    <tr>\n",
       "      <th>...</th>\n",
       "      <td>...</td>\n",
       "      <td>...</td>\n",
       "      <td>...</td>\n",
       "      <td>...</td>\n",
       "      <td>...</td>\n",
       "      <td>...</td>\n",
       "      <td>...</td>\n",
       "      <td>...</td>\n",
       "      <td>...</td>\n",
       "      <td>...</td>\n",
       "      <td>...</td>\n",
       "      <td>...</td>\n",
       "      <td>...</td>\n",
       "    </tr>\n",
       "    <tr>\n",
       "      <th>35</th>\n",
       "      <td>1</td>\n",
       "      <td>0</td>\n",
       "      <td>0</td>\n",
       "      <td>0</td>\n",
       "      <td>7</td>\n",
       "      <td>289</td>\n",
       "      <td>33</td>\n",
       "      <td>30</td>\n",
       "      <td>0</td>\n",
       "      <td>2</td>\n",
       "      <td>1</td>\n",
       "      <td>0.913706</td>\n",
       "      <td>1</td>\n",
       "    </tr>\n",
       "    <tr>\n",
       "      <th>36</th>\n",
       "      <td>1</td>\n",
       "      <td>0</td>\n",
       "      <td>0</td>\n",
       "      <td>0</td>\n",
       "      <td>7</td>\n",
       "      <td>235</td>\n",
       "      <td>37</td>\n",
       "      <td>29</td>\n",
       "      <td>1</td>\n",
       "      <td>1</td>\n",
       "      <td>1</td>\n",
       "      <td>0.749982</td>\n",
       "      <td>1</td>\n",
       "    </tr>\n",
       "    <tr>\n",
       "      <th>37</th>\n",
       "      <td>0</td>\n",
       "      <td>0</td>\n",
       "      <td>0</td>\n",
       "      <td>0</td>\n",
       "      <td>7</td>\n",
       "      <td>118</td>\n",
       "      <td>40</td>\n",
       "      <td>34</td>\n",
       "      <td>0</td>\n",
       "      <td>1</td>\n",
       "      <td>8</td>\n",
       "      <td>0.016180</td>\n",
       "      <td>0</td>\n",
       "    </tr>\n",
       "    <tr>\n",
       "      <th>38</th>\n",
       "      <td>0</td>\n",
       "      <td>0</td>\n",
       "      <td>0</td>\n",
       "      <td>0</td>\n",
       "      <td>7</td>\n",
       "      <td>231</td>\n",
       "      <td>39</td>\n",
       "      <td>35</td>\n",
       "      <td>0</td>\n",
       "      <td>2</td>\n",
       "      <td>2</td>\n",
       "      <td>0.247648</td>\n",
       "      <td>0</td>\n",
       "    </tr>\n",
       "    <tr>\n",
       "      <th>39</th>\n",
       "      <td>0</td>\n",
       "      <td>0</td>\n",
       "      <td>0</td>\n",
       "      <td>0</td>\n",
       "      <td>7</td>\n",
       "      <td>179</td>\n",
       "      <td>53</td>\n",
       "      <td>25</td>\n",
       "      <td>0</td>\n",
       "      <td>1</td>\n",
       "      <td>1</td>\n",
       "      <td>0.060545</td>\n",
       "      <td>0</td>\n",
       "    </tr>\n",
       "  </tbody>\n",
       "</table></div>"
      ],
      "text/plain": [
       "    Reason_1  Reason_2  Reason_3  Reason_4  Month_Value  \\\n",
       "0          0         0         0         1            6   \n",
       "1          1         0         0         0            6   \n",
       "2          0         0         0         1            6   \n",
       "3          0         0         0         1            6   \n",
       "4          1         0         0         0            6   \n",
       "5          1         0         0         0            6   \n",
       "6          1         0         0         0            6   \n",
       "7          0         0         0         1            6   \n",
       "8          0         0         0         1            6   \n",
       "9          1         0         0         0            6   \n",
       "10         0         0         0         1            6   \n",
       "11         0         0         1         0            6   \n",
       "12         0         0         1         0            6   \n",
       "13         0         0         0         1            6   \n",
       "14         0         0         0         0            6   \n",
       "15         0         0         0         0            6   \n",
       "16         0         0         1         0            6   \n",
       "17         1         0         0         0            6   \n",
       "18         0         0         0         1            6   \n",
       "19         1         0         0         0            7   \n",
       "20         0         0         0         1            7   \n",
       "21         0         0         0         1            7   \n",
       "22         1         0         0         0            7   \n",
       "23         1         0         0         0            7   \n",
       "24         0         0         0         1            7   \n",
       "25         0         0         0         1            7   \n",
       "26         0         0         1         0            7   \n",
       "27         1         0         0         0            7   \n",
       "28         0         0         0         1            7   \n",
       "29         1         0         0         0            7   \n",
       "30         0         0         0         1            7   \n",
       "31         0         0         0         1            7   \n",
       "32         0         0         0         1            7   \n",
       "33         0         0         0         1            7   \n",
       "34         1         0         0         0            7   \n",
       "35         1         0         0         0            7   \n",
       "36         1         0         0         0            7   \n",
       "37         0         0         0         0            7   \n",
       "38         0         0         0         0            7   \n",
       "39         0         0         0         0            7   \n",
       "\n",
       "    Transportation Expense  Age  Body Mass Index  Education  Children  Pets  \\\n",
       "0                      179   30               19          1         0     0   \n",
       "1                      361   28               27          0         1     4   \n",
       "2                      155   34               25          0         2     0   \n",
       "3                      179   40               22          1         2     0   \n",
       "4                      155   34               25          0         2     0   \n",
       "5                      225   28               24          0         1     2   \n",
       "6                      118   46               25          0         2     0   \n",
       "7                      179   30               19          1         0     0   \n",
       "8                      118   37               28          0         0     0   \n",
       "9                      118   37               28          0         0     0   \n",
       "10                     378   36               21          0         2     4   \n",
       "11                     118   50               31          0         1     0   \n",
       "12                     233   31               21          1         1     8   \n",
       "13                     179   30               19          1         0     0   \n",
       "14                     235   48               33          0         1     5   \n",
       "15                     268   33               25          1         0     0   \n",
       "16                     118   50               31          0         1     0   \n",
       "17                     179   30               19          1         0     0   \n",
       "18                     291   40               25          0         1     1   \n",
       "19                     179   30               19          1         0     0   \n",
       "20                     118   37               28          0         0     0   \n",
       "21                     233   31               21          1         1     8   \n",
       "22                     118   37               28          0         0     0   \n",
       "23                     118   37               28          0         0     0   \n",
       "24                     233   31               21          1         1     8   \n",
       "25                     235   43               38          0         1     0   \n",
       "26                     233   31               21          1         1     8   \n",
       "27                     228   58               22          0         2     1   \n",
       "28                     118   37               28          0         0     0   \n",
       "29                     228   58               22          0         2     1   \n",
       "30                     189   33               25          0         2     2   \n",
       "31                     118   37               28          0         0     0   \n",
       "32                     361   28               27          0         1     4   \n",
       "33                     225   28               24          0         1     2   \n",
       "34                     369   31               25          0         3     0   \n",
       "35                     289   33               30          0         2     1   \n",
       "36                     235   37               29          1         1     1   \n",
       "37                     118   40               34          0         1     8   \n",
       "38                     231   39               35          0         2     2   \n",
       "39                     179   53               25          0         1     1   \n",
       "\n",
       "    Probability  Prediction  \n",
       "0      0.237107           0  \n",
       "1      0.871285           1  \n",
       "2      0.448511           0  \n",
       "3      0.360140           0  \n",
       "4      0.721178           1  \n",
       "5      0.709703           1  \n",
       "6      0.567888           1  \n",
       "7      0.237107           0  \n",
       "8      0.249703           0  \n",
       "9      0.514198           1  \n",
       "10     0.652696           1  \n",
       "11     0.285803           0  \n",
       "12     0.100742           0  \n",
       "13     0.237107           0  \n",
       "14     0.074432           0  \n",
       "15     0.158316           0  \n",
       "16     0.285803           0  \n",
       "17     0.497099           0  \n",
       "18     0.590822           1  \n",
       "19     0.497494           0  \n",
       "20     0.249999           0  \n",
       "21     0.100885           0  \n",
       "22     0.514593           1  \n",
       "23     0.514593           1  \n",
       "24     0.100885           0  \n",
       "25     0.705144           1  \n",
       "26     0.100885           0  \n",
       "27     0.637698           1  \n",
       "28     0.249999           0  \n",
       "29     0.637698           1  \n",
       "30     0.414535           0  \n",
       "31     0.249999           0  \n",
       "32     0.680691           1  \n",
       "33     0.435000           0  \n",
       "34     0.968453           1  \n",
       "35     0.913706           1  \n",
       "36     0.749982           1  \n",
       "37     0.016180           0  \n",
       "38     0.247648           0  \n",
       "39     0.060545           0  "
      ]
     },
     "execution_count": 22,
     "metadata": {},
     "output_type": "execute_result"
    }
   ],
   "source": [
    "Absenteeism_predictions = pd.read_csv('Absenteeism_predictions.csv')\n",
    "Absenteeism_predictions"
   ]
  },
  {
   "cell_type": "code",
   "execution_count": 23,
   "id": "087febac",
   "metadata": {},
   "outputs": [
    {
     "name": "stdout",
     "output_type": "stream",
     "text": [
      "<class 'pandas.core.frame.DataFrame'>\n",
      "RangeIndex: 40 entries, 0 to 39\n",
      "Data columns (total 13 columns):\n",
      " #   Column                  Non-Null Count  Dtype  \n",
      "---  ------                  --------------  -----  \n",
      " 0   Reason_1                40 non-null     int64  \n",
      " 1   Reason_2                40 non-null     int64  \n",
      " 2   Reason_3                40 non-null     int64  \n",
      " 3   Reason_4                40 non-null     int64  \n",
      " 4   Month_Value             40 non-null     int64  \n",
      " 5   Transportation Expense  40 non-null     int64  \n",
      " 6   Age                     40 non-null     int64  \n",
      " 7   Body Mass Index         40 non-null     int64  \n",
      " 8   Education               40 non-null     int64  \n",
      " 9   Children                40 non-null     int64  \n",
      " 10  Pets                    40 non-null     int64  \n",
      " 11  Probability             40 non-null     float64\n",
      " 12  Prediction              40 non-null     int64  \n",
      "dtypes: float64(1), int64(12)\n",
      "memory usage: 4.2 KB\n"
     ]
    }
   ],
   "source": [
    "Absenteeism_predictions.info()"
   ]
  },
  {
   "cell_type": "code",
   "execution_count": null,
   "id": "86b7e6f9",
   "metadata": {},
   "outputs": [],
   "source": []
  }
 ],
 "metadata": {
  "kernelspec": {
   "display_name": "Python 3 (ipykernel)",
   "language": "python",
   "name": "python3"
  },
  "language_info": {
   "codemirror_mode": {
    "name": "ipython",
    "version": 3
   },
   "file_extension": ".py",
   "mimetype": "text/x-python",
   "name": "python",
   "nbconvert_exporter": "python",
   "pygments_lexer": "ipython3",
   "version": "3.9.15"
  },
  "toc": {
   "base_numbering": 1,
   "nav_menu": {},
   "number_sections": true,
   "sideBar": true,
   "skip_h1_title": false,
   "title_cell": "Table of Contents",
   "title_sidebar": "Contents",
   "toc_cell": false,
   "toc_position": {},
   "toc_section_display": true,
   "toc_window_display": true
  }
 },
 "nbformat": 4,
 "nbformat_minor": 5
}
